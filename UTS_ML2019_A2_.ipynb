{
  "nbformat": 4,
  "nbformat_minor": 0,
  "metadata": {
    "colab": {
      "name": "UTS_ML2019_A2_.ipynb",
      "provenance": [],
      "toc_visible": true,
      "include_colab_link": true
    },
    "kernelspec": {
      "name": "python3",
      "display_name": "Python 3"
    }
  },
  "cells": [
    {
      "cell_type": "markdown",
      "metadata": {
        "id": "view-in-github",
        "colab_type": "text"
      },
      "source": [
        "<a href=\"https://colab.research.google.com/github/lahirurane/MERN_Example/blob/master/UTS_ML2019_A2_.ipynb\" target=\"_parent\"><img src=\"https://colab.research.google.com/assets/colab-badge.svg\" alt=\"Open In Colab\"/></a>"
      ]
    },
    {
      "cell_type": "markdown",
      "metadata": {
        "id": "md5Y4KzNRHT2",
        "colab_type": "text"
      },
      "source": [
        "#Assignment 2"
      ]
    },
    {
      "cell_type": "code",
      "metadata": {
        "id": "IEilLG0oT3BB",
        "colab_type": "code",
        "colab": {}
      },
      "source": [
        "import pandas as pd\n",
        "import numpy as np\n",
        "import matplotlib.pyplot as plt\n",
        "import bz2"
      ],
      "execution_count": 0,
      "outputs": []
    },
    {
      "cell_type": "code",
      "metadata": {
        "id": "Z2opKKVPT4FI",
        "colab_type": "code",
        "outputId": "626cb15e-4d25-4ef6-f0f1-c9d09db057d4",
        "colab": {
          "base_uri": "https://localhost:8080/",
          "height": 51
        }
      },
      "source": [
        "from google.colab import drive\n",
        "drive.mount('/gdrive')\n",
        "%cd /gdrive/My Drive\n",
        "\n"
      ],
      "execution_count": 38,
      "outputs": [
        {
          "output_type": "stream",
          "text": [
            "Drive already mounted at /gdrive; to attempt to forcibly remount, call drive.mount(\"/gdrive\", force_remount=True).\n",
            "/gdrive/My Drive\n"
          ],
          "name": "stdout"
        }
      ]
    },
    {
      "cell_type": "code",
      "metadata": {
        "id": "-3g3nsN5UKLJ",
        "colab_type": "code",
        "colab": {}
      },
      "source": [
        "def get_labels_and_texts(file):\n",
        "    labels = []\n",
        "    texts = []\n",
        "    for line in bz2.BZ2File(file):\n",
        "        x = line.decode(\"utf-8\")\n",
        "        labels.append(int(x[9]) - 1)\n",
        "        texts.append(x[10:].strip())\n",
        "    return np.array(labels), texts\n",
        "train_labels, train_texts = get_labels_and_texts('./amazonreviews/train.ft.txt.bz2')\n",
        "test_labels, test_texts = get_labels_and_texts('./amazonreviews/test.ft.txt.bz2')"
      ],
      "execution_count": 0,
      "outputs": []
    },
    {
      "cell_type": "code",
      "metadata": {
        "id": "aXdqbblIYfRX",
        "colab_type": "code",
        "colab": {}
      },
      "source": [
        "import re\n",
        "NON_ALPHANUM = re.compile(r'[\\W]')\n",
        "NON_ASCII = re.compile(r'[^a-z0-1\\s]')\n",
        "def normalize_texts(texts):\n",
        "    normalized_texts = []\n",
        "    for text in texts:\n",
        "        lower = text.lower()\n",
        "        no_punctuation = NON_ALPHANUM.sub(r' ', lower)\n",
        "        no_non_ascii = NON_ASCII.sub(r'', no_punctuation)\n",
        "        normalized_texts.append(no_non_ascii)\n",
        "    return normalized_texts\n",
        "        \n",
        "train_texts = normalize_texts(train_texts)\n",
        "test_texts = normalize_texts(test_texts)"
      ],
      "execution_count": 0,
      "outputs": []
    },
    {
      "cell_type": "code",
      "metadata": {
        "id": "GR_7w22MZuH0",
        "colab_type": "code",
        "colab": {
          "base_uri": "https://localhost:8080/",
          "height": 71
        },
        "outputId": "e6890cab-10df-467b-b1e8-9e6394317120"
      },
      "source": [
        "print(type(test_texts))\n",
        "print(test_texts[1])"
      ],
      "execution_count": 12,
      "outputs": [
        {
          "output_type": "stream",
          "text": [
            "<class 'list'>\n",
            "one of the best game music soundtracks   for a game i didn t really play  despite the fact that i have only played a small portion of the game  the music i heard  plus the connection to chrono trigger which was great as well  led me to purchase the soundtrack  and it remains one of my favorite albums  there is an incredible mix of fun  epic  and emotional songs  those sad and beautiful tracks i especially like  as there s not too many of those kinds of songs in my other video game soundtracks  i must admit that one of the songs  life a distant promise  has brought tears to my eyes on many occasions my one complaint about this soundtrack is that they use guitar fretting effects in many of the songs  which i find distracting  but even if those weren t included i would still consider the collection worth it \n"
          ],
          "name": "stdout"
        }
      ]
    },
    {
      "cell_type": "code",
      "metadata": {
        "id": "9wiJTF4qZ7aO",
        "colab_type": "code",
        "colab": {
          "base_uri": "https://localhost:8080/",
          "height": 34
        },
        "outputId": "3e642bba-7dee-439d-cdfe-0dd286b86f42"
      },
      "source": [
        "!pip install -q vaderSentiment"
      ],
      "execution_count": 13,
      "outputs": [
        {
          "output_type": "stream",
          "text": [
            "\u001b[?25l\r\u001b[K     |██▋                             | 10kB 19.2MB/s eta 0:00:01\r\u001b[K     |█████▏                          | 20kB 3.5MB/s eta 0:00:01\r\u001b[K     |███████▉                        | 30kB 5.1MB/s eta 0:00:01\r\u001b[K     |██████████▍                     | 40kB 3.2MB/s eta 0:00:01\r\u001b[K     |█████████████                   | 51kB 4.0MB/s eta 0:00:01\r\u001b[K     |███████████████▋                | 61kB 4.7MB/s eta 0:00:01\r\u001b[K     |██████████████████▎             | 71kB 5.4MB/s eta 0:00:01\r\u001b[K     |████████████████████▉           | 81kB 6.1MB/s eta 0:00:01\r\u001b[K     |███████████████████████▍        | 92kB 6.8MB/s eta 0:00:01\r\u001b[K     |██████████████████████████      | 102kB 5.3MB/s eta 0:00:01\r\u001b[K     |████████████████████████████▋   | 112kB 5.3MB/s eta 0:00:01\r\u001b[K     |███████████████████████████████▎| 122kB 5.3MB/s eta 0:00:01\r\u001b[K     |████████████████████████████████| 133kB 5.3MB/s \n",
            "\u001b[?25h"
          ],
          "name": "stdout"
        }
      ]
    },
    {
      "cell_type": "code",
      "metadata": {
        "id": "qH1tYSpjaAwU",
        "colab_type": "code",
        "colab": {}
      },
      "source": [
        "from vaderSentiment.vaderSentiment import SentimentIntensityAnalyzer\n",
        "analyser = SentimentIntensityAnalyzer()"
      ],
      "execution_count": 0,
      "outputs": []
    },
    {
      "cell_type": "code",
      "metadata": {
        "id": "23YArgDmcTCF",
        "colab_type": "code",
        "colab": {}
      },
      "source": [
        "scores = []"
      ],
      "execution_count": 0,
      "outputs": []
    },
    {
      "cell_type": "code",
      "metadata": {
        "id": "uDUoZBxHaDOz",
        "colab_type": "code",
        "colab": {}
      },
      "source": [
        "def sentiment_analyzer_scores(sentence):\n",
        "    score = analyser.polarity_scores(sentence)\n",
        "    scores.append(score);\n",
        "    "
      ],
      "execution_count": 0,
      "outputs": []
    },
    {
      "cell_type": "code",
      "metadata": {
        "id": "R_iugxW2a-9v",
        "colab_type": "code",
        "colab": {
          "base_uri": "https://localhost:8080/",
          "height": 34
        },
        "outputId": "fe13ad6e-758e-467e-85ac-452f6a764982"
      },
      "source": [
        "for index, item in zip(range(1000), test_texts):\n",
        "    #print(index, item)\n",
        "    sentiment_analyzer_scores(item)\n",
        "   \n",
        "print(scores[1])"
      ],
      "execution_count": 37,
      "outputs": [
        {
          "output_type": "stream",
          "text": [
            "{'neg': 0.043, 'neu': 0.791, 'pos': 0.165, 'compound': 0.9293}\n"
          ],
          "name": "stdout"
        }
      ]
    },
    {
      "cell_type": "markdown",
      "metadata": {
        "id": "As-d_G3sekiY",
        "colab_type": "text"
      },
      "source": [
        "Plot Scores"
      ]
    },
    {
      "cell_type": "code",
      "metadata": {
        "id": "jsOpyu8QcKEn",
        "colab_type": "code",
        "colab": {
          "base_uri": "https://localhost:8080/",
          "height": 305
        },
        "outputId": "aa60dbac-c00d-4e01-cee2-f34855abfd2c"
      },
      "source": [
        "\n",
        "import matplotlib.pyplot as plt\n",
        "%matplotlib inline\n",
        "\n",
        "x = []\n",
        "y = []\n",
        "for item in scores:\n",
        "  \n",
        "  avg = (item['pos'] - item['neg'])/2\n",
        "  \n",
        "  x.append(avg)\n",
        "      \n",
        "  y.append(item['neg'])\n",
        "\n",
        "plt.scatter(x, y, color='Red')\n",
        "\n",
        "plt.title('Sentiment Analysis', fontsize = 20)\n",
        "plt.xlabel('← Negative Positive → ', fontsize=15)\n",
        "plt.ylabel('← Compound →', fontsize=15)\n",
        "plt.show()"
      ],
      "execution_count": 50,
      "outputs": [
        {
          "output_type": "display_data",
          "data": {
            "image/png": "[encoded data removed]",
            "text/plain": [
              "<Figure size 432x288 with 1 Axes>"
            ]
          },
          "metadata": {
            "tags": []
          }
        }
      ]
    },
    {
      "cell_type": "code",
      "metadata": {
        "id": "Cq-e65hjdCZj",
        "colab_type": "code",
        "colab": {}
      },
      "source": [
        ""
      ],
      "execution_count": 0,
      "outputs": []
    }
  ]
}